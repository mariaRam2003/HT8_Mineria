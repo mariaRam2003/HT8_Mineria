{
 "cells": [
  {
   "cell_type": "markdown",
   "metadata": {},
   "source": [
    "# Hoja de Trabajo 7\n",
    "## Modelo SVM\n",
    "---\n",
    "**Integrantes**\n",
    "- Maria Marta Ramirez Gil\n",
    "- Gustavo Andres Gonzalez Pineda \n",
    "- Diego Alberto Leiva Pérez \n",
    "---"
   ]
  },
  {
   "cell_type": "code",
   "execution_count": 27,
   "metadata": {},
   "outputs": [],
   "source": [
    "import pandas as pd\n",
    "from sklearn.model_selection import train_test_split\n",
    "from sklearn.svm import SVC\n",
    "from sklearn.metrics import accuracy_score, confusion_matrix\n",
    "from sklearn.preprocessing import StandardScaler\n",
    "from sklearn.ensemble import RandomForestClassifier\n",
    "from sklearn.metrics import accuracy_score, confusion_matrix"
   ]
  },
  {
   "cell_type": "markdown",
   "metadata": {},
   "source": [
    "## Cargar los Datos"
   ]
  },
  {
   "cell_type": "code",
   "execution_count": 10,
   "metadata": {},
   "outputs": [],
   "source": [
    "# Cargar los datos\n",
    "df_train = pd.read_csv('train.csv')\n",
    "df_test = pd.read_csv('test.csv')"
   ]
  },
  {
   "cell_type": "markdown",
   "metadata": {},
   "source": [
    "## Explorar los datos y hacer transformaciones"
   ]
  },
  {
   "cell_type": "code",
   "execution_count": 11,
   "metadata": {},
   "outputs": [
    {
     "name": "stdout",
     "output_type": "stream",
     "text": [
      "\n",
      "Columns for train.csv\n",
      "Index(['Id', 'MSSubClass', 'MSZoning', 'LotFrontage', 'LotArea', 'Street',\n",
      "       'Alley', 'LotShape', 'LandContour', 'Utilities', 'LotConfig',\n",
      "       'LandSlope', 'Neighborhood', 'Condition1', 'Condition2', 'BldgType',\n",
      "       'HouseStyle', 'OverallQual', 'OverallCond', 'YearBuilt', 'YearRemodAdd',\n",
      "       'RoofStyle', 'RoofMatl', 'Exterior1st', 'Exterior2nd', 'MasVnrType',\n",
      "       'MasVnrArea', 'ExterQual', 'ExterCond', 'Foundation', 'BsmtQual',\n",
      "       'BsmtCond', 'BsmtExposure', 'BsmtFinType1', 'BsmtFinSF1',\n",
      "       'BsmtFinType2', 'BsmtFinSF2', 'BsmtUnfSF', 'TotalBsmtSF', 'Heating',\n",
      "       'HeatingQC', 'CentralAir', 'Electrical', '1stFlrSF', '2ndFlrSF',\n",
      "       'LowQualFinSF', 'GrLivArea', 'BsmtFullBath', 'BsmtHalfBath', 'FullBath',\n",
      "       'HalfBath', 'BedroomAbvGr', 'KitchenAbvGr', 'KitchenQual',\n",
      "       'TotRmsAbvGrd', 'Functional', 'Fireplaces', 'FireplaceQu', 'GarageType',\n",
      "       'GarageYrBlt', 'GarageFinish', 'GarageCars', 'GarageArea', 'GarageQual',\n",
      "       'GarageCond', 'PavedDrive', 'WoodDeckSF', 'OpenPorchSF',\n",
      "       'EnclosedPorch', '3SsnPorch', 'ScreenPorch', 'PoolArea', 'PoolQC',\n",
      "       'Fence', 'MiscFeature', 'MiscVal', 'MoSold', 'YrSold', 'SaleType',\n",
      "       'SaleCondition'],\n",
      "      dtype='object')\n",
      "\n",
      "Columns for test.csv\n",
      "Index(['Id', 'MSSubClass', 'MSZoning', 'LotFrontage', 'LotArea', 'Street',\n",
      "       'Alley', 'LotShape', 'LandContour', 'Utilities', 'LotConfig',\n",
      "       'LandSlope', 'Neighborhood', 'Condition1', 'Condition2', 'BldgType',\n",
      "       'HouseStyle', 'OverallQual', 'OverallCond', 'YearBuilt', 'YearRemodAdd',\n",
      "       'RoofStyle', 'RoofMatl', 'Exterior1st', 'Exterior2nd', 'MasVnrType',\n",
      "       'MasVnrArea', 'ExterQual', 'ExterCond', 'Foundation', 'BsmtQual',\n",
      "       'BsmtCond', 'BsmtExposure', 'BsmtFinType1', 'BsmtFinSF1',\n",
      "       'BsmtFinType2', 'BsmtFinSF2', 'BsmtUnfSF', 'TotalBsmtSF', 'Heating',\n",
      "       'HeatingQC', 'CentralAir', 'Electrical', '1stFlrSF', '2ndFlrSF',\n",
      "       'LowQualFinSF', 'GrLivArea', 'BsmtFullBath', 'BsmtHalfBath', 'FullBath',\n",
      "       'HalfBath', 'BedroomAbvGr', 'KitchenAbvGr', 'KitchenQual',\n",
      "       'TotRmsAbvGrd', 'Functional', 'Fireplaces', 'FireplaceQu', 'GarageType',\n",
      "       'GarageYrBlt', 'GarageFinish', 'GarageCars', 'GarageArea', 'GarageQual',\n",
      "       'GarageCond', 'PavedDrive', 'WoodDeckSF', 'OpenPorchSF',\n",
      "       'EnclosedPorch', '3SsnPorch', 'ScreenPorch', 'PoolArea', 'PoolQC',\n",
      "       'Fence', 'MiscFeature', 'MiscVal', 'MoSold', 'YrSold', 'SaleType',\n",
      "       'SaleCondition', 'SalePrice'],\n",
      "      dtype='object')\n"
     ]
    }
   ],
   "source": [
    "# Mostrar las columnas de cada archivo\n",
    "print(\"\\nColumns for train.csv\")\n",
    "print(df_test.columns)\n",
    "print(\"\\nColumns for test.csv\")\n",
    "print(df_train.columns)"
   ]
  },
  {
   "cell_type": "code",
   "execution_count": 12,
   "metadata": {},
   "outputs": [
    {
     "name": "stdout",
     "output_type": "stream",
     "text": [
      "\n",
      "Shape of DataFrame for train.csv\n",
      "(1459, 80)\n",
      "\n",
      "Shape of DataFrame for test.csv\n",
      "(1460, 81)\n"
     ]
    }
   ],
   "source": [
    "# Mostar la forma de cada DataFrame\n",
    "print(\"\\nShape of DataFrame for train.csv\")\n",
    "print(df_test.shape)\n",
    "print(\"\\nShape of DataFrame for test.csv\")\n",
    "print(df_train.shape)"
   ]
  },
  {
   "cell_type": "code",
   "execution_count": 14,
   "metadata": {},
   "outputs": [
    {
     "name": "stdout",
     "output_type": "stream",
     "text": [
      "Información de df_train:\n",
      "<class 'pandas.core.frame.DataFrame'>\n",
      "RangeIndex: 1460 entries, 0 to 1459\n",
      "Data columns (total 81 columns):\n",
      " #   Column         Non-Null Count  Dtype  \n",
      "---  ------         --------------  -----  \n",
      " 0   Id             1460 non-null   int64  \n",
      " 1   MSSubClass     1460 non-null   int64  \n",
      " 2   MSZoning       1460 non-null   object \n",
      " 3   LotFrontage    1201 non-null   float64\n",
      " 4   LotArea        1460 non-null   int64  \n",
      " 5   Street         1460 non-null   object \n",
      " 6   Alley          91 non-null     object \n",
      " 7   LotShape       1460 non-null   object \n",
      " 8   LandContour    1460 non-null   object \n",
      " 9   Utilities      1460 non-null   object \n",
      " 10  LotConfig      1460 non-null   object \n",
      " 11  LandSlope      1460 non-null   object \n",
      " 12  Neighborhood   1460 non-null   object \n",
      " 13  Condition1     1460 non-null   object \n",
      " 14  Condition2     1460 non-null   object \n",
      " 15  BldgType       1460 non-null   object \n",
      " 16  HouseStyle     1460 non-null   object \n",
      " 17  OverallQual    1460 non-null   int64  \n",
      " 18  OverallCond    1460 non-null   int64  \n",
      " 19  YearBuilt      1460 non-null   int64  \n",
      " 20  YearRemodAdd   1460 non-null   int64  \n",
      " 21  RoofStyle      1460 non-null   object \n",
      " 22  RoofMatl       1460 non-null   object \n",
      " 23  Exterior1st    1460 non-null   object \n",
      " 24  Exterior2nd    1460 non-null   object \n",
      " 25  MasVnrType     1452 non-null   object \n",
      " 26  MasVnrArea     1452 non-null   float64\n",
      " 27  ExterQual      1460 non-null   object \n",
      " 28  ExterCond      1460 non-null   object \n",
      " 29  Foundation     1460 non-null   object \n",
      " 30  BsmtQual       1423 non-null   object \n",
      " 31  BsmtCond       1423 non-null   object \n",
      " 32  BsmtExposure   1422 non-null   object \n",
      " 33  BsmtFinType1   1423 non-null   object \n",
      " 34  BsmtFinSF1     1460 non-null   int64  \n",
      " 35  BsmtFinType2   1422 non-null   object \n",
      " 36  BsmtFinSF2     1460 non-null   int64  \n",
      " 37  BsmtUnfSF      1460 non-null   int64  \n",
      " 38  TotalBsmtSF    1460 non-null   int64  \n",
      " 39  Heating        1460 non-null   object \n",
      " 40  HeatingQC      1460 non-null   object \n",
      " 41  CentralAir     1460 non-null   object \n",
      " 42  Electrical     1459 non-null   object \n",
      " 43  1stFlrSF       1460 non-null   int64  \n",
      " 44  2ndFlrSF       1460 non-null   int64  \n",
      " 45  LowQualFinSF   1460 non-null   int64  \n",
      " 46  GrLivArea      1460 non-null   int64  \n",
      " 47  BsmtFullBath   1460 non-null   int64  \n",
      " 48  BsmtHalfBath   1460 non-null   int64  \n",
      " 49  FullBath       1460 non-null   int64  \n",
      " 50  HalfBath       1460 non-null   int64  \n",
      " 51  BedroomAbvGr   1460 non-null   int64  \n",
      " 52  KitchenAbvGr   1460 non-null   int64  \n",
      " 53  KitchenQual    1460 non-null   object \n",
      " 54  TotRmsAbvGrd   1460 non-null   int64  \n",
      " 55  Functional     1460 non-null   object \n",
      " 56  Fireplaces     1460 non-null   int64  \n",
      " 57  FireplaceQu    770 non-null    object \n",
      " 58  GarageType     1379 non-null   object \n",
      " 59  GarageYrBlt    1379 non-null   float64\n",
      " 60  GarageFinish   1379 non-null   object \n",
      " 61  GarageCars     1460 non-null   int64  \n",
      " 62  GarageArea     1460 non-null   int64  \n",
      " 63  GarageQual     1379 non-null   object \n",
      " 64  GarageCond     1379 non-null   object \n",
      " 65  PavedDrive     1460 non-null   object \n",
      " 66  WoodDeckSF     1460 non-null   int64  \n",
      " 67  OpenPorchSF    1460 non-null   int64  \n",
      " 68  EnclosedPorch  1460 non-null   int64  \n",
      " 69  3SsnPorch      1460 non-null   int64  \n",
      " 70  ScreenPorch    1460 non-null   int64  \n",
      " 71  PoolArea       1460 non-null   int64  \n",
      " 72  PoolQC         7 non-null      object \n",
      " 73  Fence          281 non-null    object \n",
      " 74  MiscFeature    54 non-null     object \n",
      " 75  MiscVal        1460 non-null   int64  \n",
      " 76  MoSold         1460 non-null   int64  \n",
      " 77  YrSold         1460 non-null   int64  \n",
      " 78  SaleType       1460 non-null   object \n",
      " 79  SaleCondition  1460 non-null   object \n",
      " 80  SalePrice      1460 non-null   int64  \n",
      "dtypes: float64(3), int64(35), object(43)\n",
      "memory usage: 924.0+ KB\n",
      "None\n",
      "Estadísticas de df_train:\n",
      "                Id   MSSubClass  LotFrontage        LotArea  OverallQual  \\\n",
      "count  1460.000000  1460.000000  1201.000000    1460.000000  1460.000000   \n",
      "mean    730.500000    56.897260    70.049958   10516.828082     6.099315   \n",
      "std     421.610009    42.300571    24.284752    9981.264932     1.382997   \n",
      "min       1.000000    20.000000    21.000000    1300.000000     1.000000   \n",
      "25%     365.750000    20.000000    59.000000    7553.500000     5.000000   \n",
      "50%     730.500000    50.000000    69.000000    9478.500000     6.000000   \n",
      "75%    1095.250000    70.000000    80.000000   11601.500000     7.000000   \n",
      "max    1460.000000   190.000000   313.000000  215245.000000    10.000000   \n",
      "\n",
      "       OverallCond    YearBuilt  YearRemodAdd   MasVnrArea   BsmtFinSF1  ...  \\\n",
      "count  1460.000000  1460.000000   1460.000000  1452.000000  1460.000000  ...   \n",
      "mean      5.575342  1971.267808   1984.865753   103.685262   443.639726  ...   \n",
      "std       1.112799    30.202904     20.645407   181.066207   456.098091  ...   \n",
      "min       1.000000  1872.000000   1950.000000     0.000000     0.000000  ...   \n",
      "25%       5.000000  1954.000000   1967.000000     0.000000     0.000000  ...   \n",
      "50%       5.000000  1973.000000   1994.000000     0.000000   383.500000  ...   \n",
      "75%       6.000000  2000.000000   2004.000000   166.000000   712.250000  ...   \n",
      "max       9.000000  2010.000000   2010.000000  1600.000000  5644.000000  ...   \n",
      "\n",
      "        WoodDeckSF  OpenPorchSF  EnclosedPorch    3SsnPorch  ScreenPorch  \\\n",
      "count  1460.000000  1460.000000    1460.000000  1460.000000  1460.000000   \n",
      "mean     94.244521    46.660274      21.954110     3.409589    15.060959   \n",
      "std     125.338794    66.256028      61.119149    29.317331    55.757415   \n",
      "min       0.000000     0.000000       0.000000     0.000000     0.000000   \n",
      "25%       0.000000     0.000000       0.000000     0.000000     0.000000   \n",
      "50%       0.000000    25.000000       0.000000     0.000000     0.000000   \n",
      "75%     168.000000    68.000000       0.000000     0.000000     0.000000   \n",
      "max     857.000000   547.000000     552.000000   508.000000   480.000000   \n",
      "\n",
      "          PoolArea       MiscVal       MoSold       YrSold      SalePrice  \n",
      "count  1460.000000   1460.000000  1460.000000  1460.000000    1460.000000  \n",
      "mean      2.758904     43.489041     6.321918  2007.815753  180921.195890  \n",
      "std      40.177307    496.123024     2.703626     1.328095   79442.502883  \n",
      "min       0.000000      0.000000     1.000000  2006.000000   34900.000000  \n",
      "25%       0.000000      0.000000     5.000000  2007.000000  129975.000000  \n",
      "50%       0.000000      0.000000     6.000000  2008.000000  163000.000000  \n",
      "75%       0.000000      0.000000     8.000000  2009.000000  214000.000000  \n",
      "max     738.000000  15500.000000    12.000000  2010.000000  755000.000000  \n",
      "\n",
      "[8 rows x 38 columns]\n",
      "Información de df_test:\n",
      "<class 'pandas.core.frame.DataFrame'>\n",
      "RangeIndex: 1459 entries, 0 to 1458\n",
      "Data columns (total 80 columns):\n",
      " #   Column         Non-Null Count  Dtype  \n",
      "---  ------         --------------  -----  \n",
      " 0   Id             1459 non-null   int64  \n",
      " 1   MSSubClass     1459 non-null   int64  \n",
      " 2   MSZoning       1455 non-null   object \n",
      " 3   LotFrontage    1232 non-null   float64\n",
      " 4   LotArea        1459 non-null   int64  \n",
      " 5   Street         1459 non-null   object \n",
      " 6   Alley          107 non-null    object \n",
      " 7   LotShape       1459 non-null   object \n",
      " 8   LandContour    1459 non-null   object \n",
      " 9   Utilities      1457 non-null   object \n",
      " 10  LotConfig      1459 non-null   object \n",
      " 11  LandSlope      1459 non-null   object \n",
      " 12  Neighborhood   1459 non-null   object \n",
      " 13  Condition1     1459 non-null   object \n",
      " 14  Condition2     1459 non-null   object \n",
      " 15  BldgType       1459 non-null   object \n",
      " 16  HouseStyle     1459 non-null   object \n",
      " 17  OverallQual    1459 non-null   int64  \n",
      " 18  OverallCond    1459 non-null   int64  \n",
      " 19  YearBuilt      1459 non-null   int64  \n",
      " 20  YearRemodAdd   1459 non-null   int64  \n",
      " 21  RoofStyle      1459 non-null   object \n",
      " 22  RoofMatl       1459 non-null   object \n",
      " 23  Exterior1st    1458 non-null   object \n",
      " 24  Exterior2nd    1458 non-null   object \n",
      " 25  MasVnrType     1443 non-null   object \n",
      " 26  MasVnrArea     1444 non-null   float64\n",
      " 27  ExterQual      1459 non-null   object \n",
      " 28  ExterCond      1459 non-null   object \n",
      " 29  Foundation     1459 non-null   object \n",
      " 30  BsmtQual       1415 non-null   object \n",
      " 31  BsmtCond       1414 non-null   object \n",
      " 32  BsmtExposure   1415 non-null   object \n",
      " 33  BsmtFinType1   1417 non-null   object \n",
      " 34  BsmtFinSF1     1458 non-null   float64\n",
      " 35  BsmtFinType2   1417 non-null   object \n",
      " 36  BsmtFinSF2     1458 non-null   float64\n",
      " 37  BsmtUnfSF      1458 non-null   float64\n",
      " 38  TotalBsmtSF    1458 non-null   float64\n",
      " 39  Heating        1459 non-null   object \n",
      " 40  HeatingQC      1459 non-null   object \n",
      " 41  CentralAir     1459 non-null   object \n",
      " 42  Electrical     1459 non-null   object \n",
      " 43  1stFlrSF       1459 non-null   int64  \n",
      " 44  2ndFlrSF       1459 non-null   int64  \n",
      " 45  LowQualFinSF   1459 non-null   int64  \n",
      " 46  GrLivArea      1459 non-null   int64  \n",
      " 47  BsmtFullBath   1457 non-null   float64\n",
      " 48  BsmtHalfBath   1457 non-null   float64\n",
      " 49  FullBath       1459 non-null   int64  \n",
      " 50  HalfBath       1459 non-null   int64  \n",
      " 51  BedroomAbvGr   1459 non-null   int64  \n",
      " 52  KitchenAbvGr   1459 non-null   int64  \n",
      " 53  KitchenQual    1458 non-null   object \n",
      " 54  TotRmsAbvGrd   1459 non-null   int64  \n",
      " 55  Functional     1457 non-null   object \n",
      " 56  Fireplaces     1459 non-null   int64  \n",
      " 57  FireplaceQu    729 non-null    object \n",
      " 58  GarageType     1383 non-null   object \n",
      " 59  GarageYrBlt    1381 non-null   float64\n",
      " 60  GarageFinish   1381 non-null   object \n",
      " 61  GarageCars     1458 non-null   float64\n",
      " 62  GarageArea     1458 non-null   float64\n",
      " 63  GarageQual     1381 non-null   object \n",
      " 64  GarageCond     1381 non-null   object \n",
      " 65  PavedDrive     1459 non-null   object \n",
      " 66  WoodDeckSF     1459 non-null   int64  \n",
      " 67  OpenPorchSF    1459 non-null   int64  \n",
      " 68  EnclosedPorch  1459 non-null   int64  \n",
      " 69  3SsnPorch      1459 non-null   int64  \n",
      " 70  ScreenPorch    1459 non-null   int64  \n",
      " 71  PoolArea       1459 non-null   int64  \n",
      " 72  PoolQC         3 non-null      object \n",
      " 73  Fence          290 non-null    object \n",
      " 74  MiscFeature    51 non-null     object \n",
      " 75  MiscVal        1459 non-null   int64  \n",
      " 76  MoSold         1459 non-null   int64  \n",
      " 77  YrSold         1459 non-null   int64  \n",
      " 78  SaleType       1458 non-null   object \n",
      " 79  SaleCondition  1459 non-null   object \n",
      "dtypes: float64(11), int64(26), object(43)\n",
      "memory usage: 912.0+ KB\n",
      "None\n",
      "Estadísticas de df_test:\n",
      "                Id   MSSubClass  LotFrontage       LotArea  OverallQual  \\\n",
      "count  1459.000000  1459.000000  1232.000000   1459.000000  1459.000000   \n",
      "mean   2190.000000    57.378341    68.580357   9819.161069     6.078821   \n",
      "std     421.321334    42.746880    22.376841   4955.517327     1.436812   \n",
      "min    1461.000000    20.000000    21.000000   1470.000000     1.000000   \n",
      "25%    1825.500000    20.000000    58.000000   7391.000000     5.000000   \n",
      "50%    2190.000000    50.000000    67.000000   9399.000000     6.000000   \n",
      "75%    2554.500000    70.000000    80.000000  11517.500000     7.000000   \n",
      "max    2919.000000   190.000000   200.000000  56600.000000    10.000000   \n",
      "\n",
      "       OverallCond    YearBuilt  YearRemodAdd   MasVnrArea   BsmtFinSF1  ...  \\\n",
      "count  1459.000000  1459.000000   1459.000000  1444.000000  1458.000000  ...   \n",
      "mean      5.553804  1971.357779   1983.662783   100.709141   439.203704  ...   \n",
      "std       1.113740    30.390071     21.130467   177.625900   455.268042  ...   \n",
      "min       1.000000  1879.000000   1950.000000     0.000000     0.000000  ...   \n",
      "25%       5.000000  1953.000000   1963.000000     0.000000     0.000000  ...   \n",
      "50%       5.000000  1973.000000   1992.000000     0.000000   350.500000  ...   \n",
      "75%       6.000000  2001.000000   2004.000000   164.000000   753.500000  ...   \n",
      "max       9.000000  2010.000000   2010.000000  1290.000000  4010.000000  ...   \n",
      "\n",
      "        GarageArea   WoodDeckSF  OpenPorchSF  EnclosedPorch    3SsnPorch  \\\n",
      "count  1458.000000  1459.000000  1459.000000    1459.000000  1459.000000   \n",
      "mean    472.768861    93.174777    48.313914      24.243317     1.794380   \n",
      "std     217.048611   127.744882    68.883364      67.227765    20.207842   \n",
      "min       0.000000     0.000000     0.000000       0.000000     0.000000   \n",
      "25%     318.000000     0.000000     0.000000       0.000000     0.000000   \n",
      "50%     480.000000     0.000000    28.000000       0.000000     0.000000   \n",
      "75%     576.000000   168.000000    72.000000       0.000000     0.000000   \n",
      "max    1488.000000  1424.000000   742.000000    1012.000000   360.000000   \n",
      "\n",
      "       ScreenPorch     PoolArea       MiscVal       MoSold       YrSold  \n",
      "count  1459.000000  1459.000000   1459.000000  1459.000000  1459.000000  \n",
      "mean     17.064428     1.744345     58.167923     6.104181  2007.769705  \n",
      "std      56.609763    30.491646    630.806978     2.722432     1.301740  \n",
      "min       0.000000     0.000000      0.000000     1.000000  2006.000000  \n",
      "25%       0.000000     0.000000      0.000000     4.000000  2007.000000  \n",
      "50%       0.000000     0.000000      0.000000     6.000000  2008.000000  \n",
      "75%       0.000000     0.000000      0.000000     8.000000  2009.000000  \n",
      "max     576.000000   800.000000  17000.000000    12.000000  2010.000000  \n",
      "\n",
      "[8 rows x 37 columns]\n"
     ]
    }
   ],
   "source": [
    "# Explorar los datos\n",
    "print(\"Información de df_train:\")\n",
    "print(df_train.info())\n",
    "print(\"Estadísticas de df_train:\")\n",
    "print(df_train.describe())\n",
    "\n",
    "print(\"Información de df_test:\")\n",
    "print(df_test.info())\n",
    "print(\"Estadísticas de df_test:\")\n",
    "print(df_test.describe())"
   ]
  },
  {
   "cell_type": "markdown",
   "metadata": {},
   "source": [
    "### Nulos"
   ]
  },
  {
   "cell_type": "code",
   "execution_count": 18,
   "metadata": {},
   "outputs": [
    {
     "name": "stdout",
     "output_type": "stream",
     "text": [
      "Valores nulos en df_train:\n"
     ]
    },
    {
     "data": {
      "text/plain": [
       "Id                 0\n",
       "MSSubClass         0\n",
       "MSZoning           0\n",
       "LotFrontage      259\n",
       "LotArea            0\n",
       "                ... \n",
       "MoSold             0\n",
       "YrSold             0\n",
       "SaleType           0\n",
       "SaleCondition      0\n",
       "SalePrice          0\n",
       "Length: 81, dtype: int64"
      ]
     },
     "execution_count": 18,
     "metadata": {},
     "output_type": "execute_result"
    }
   ],
   "source": [
    "print(\"Valores nulos en df_train:\")\n",
    "df_train.isnull().sum()"
   ]
  },
  {
   "cell_type": "code",
   "execution_count": 19,
   "metadata": {},
   "outputs": [
    {
     "name": "stdout",
     "output_type": "stream",
     "text": [
      "Valores nulos en df_test:\n"
     ]
    },
    {
     "data": {
      "text/plain": [
       "Id                 0\n",
       "MSSubClass         0\n",
       "MSZoning           4\n",
       "LotFrontage      227\n",
       "LotArea            0\n",
       "                ... \n",
       "MiscVal            0\n",
       "MoSold             0\n",
       "YrSold             0\n",
       "SaleType           1\n",
       "SaleCondition      0\n",
       "Length: 80, dtype: int64"
      ]
     },
     "execution_count": 19,
     "metadata": {},
     "output_type": "execute_result"
    }
   ],
   "source": [
    "print(\"Valores nulos en df_test:\")\n",
    "df_test.isnull().sum()"
   ]
  },
  {
   "cell_type": "markdown",
   "metadata": {},
   "source": [
    "### Transformacion\n",
    "Para lograr nuestro objetivo de clasificar las casas en categorías de precios bajos, medios y altos, hemos introducido una nueva columna que simplifica este proceso. Hemos definido nuestras categorías de precios como baratos, medios y altos, basados en criterios propios."
   ]
  },
  {
   "cell_type": "code",
   "execution_count": 21,
   "metadata": {},
   "outputs": [],
   "source": [
    "def categorize_price(price):\n",
    "    if price < 150000:\n",
    "        return 'Cheap'\n",
    "    elif price < 300000:\n",
    "        return 'Medium'\n",
    "    else:\n",
    "        return 'Expensive'\n",
    "\n",
    "# Aplicar la función para crear la nueva columna\n",
    "df_train['PriceCategory'] = df_train['SalePrice'].apply(categorize_price)\n"
   ]
  },
  {
   "cell_type": "code",
   "execution_count": 22,
   "metadata": {},
   "outputs": [
    {
     "name": "stdout",
     "output_type": "stream",
     "text": [
      "Columnas de df_train:\n",
      "Index(['Id', 'MSSubClass', 'MSZoning', 'LotFrontage', 'LotArea', 'Street',\n",
      "       'Alley', 'LotShape', 'LandContour', 'Utilities', 'LotConfig',\n",
      "       'LandSlope', 'Neighborhood', 'Condition1', 'Condition2', 'BldgType',\n",
      "       'HouseStyle', 'OverallQual', 'OverallCond', 'YearBuilt', 'YearRemodAdd',\n",
      "       'RoofStyle', 'RoofMatl', 'Exterior1st', 'Exterior2nd', 'MasVnrType',\n",
      "       'MasVnrArea', 'ExterQual', 'ExterCond', 'Foundation', 'BsmtQual',\n",
      "       'BsmtCond', 'BsmtExposure', 'BsmtFinType1', 'BsmtFinSF1',\n",
      "       'BsmtFinType2', 'BsmtFinSF2', 'BsmtUnfSF', 'TotalBsmtSF', 'Heating',\n",
      "       'HeatingQC', 'CentralAir', 'Electrical', '1stFlrSF', '2ndFlrSF',\n",
      "       'LowQualFinSF', 'GrLivArea', 'BsmtFullBath', 'BsmtHalfBath', 'FullBath',\n",
      "       'HalfBath', 'BedroomAbvGr', 'KitchenAbvGr', 'KitchenQual',\n",
      "       'TotRmsAbvGrd', 'Functional', 'Fireplaces', 'FireplaceQu', 'GarageType',\n",
      "       'GarageYrBlt', 'GarageFinish', 'GarageCars', 'GarageArea', 'GarageQual',\n",
      "       'GarageCond', 'PavedDrive', 'WoodDeckSF', 'OpenPorchSF',\n",
      "       'EnclosedPorch', '3SsnPorch', 'ScreenPorch', 'PoolArea', 'PoolQC',\n",
      "       'Fence', 'MiscFeature', 'MiscVal', 'MoSold', 'YrSold', 'SaleType',\n",
      "       'SaleCondition', 'SalePrice', 'PriceCategory'],\n",
      "      dtype='object')\n",
      "Valores únicos de la columna PriceCategory:\n",
      "['Medium' 'Cheap' 'Expensive']\n"
     ]
    }
   ],
   "source": [
    "# Verificar la creacion de la columna\n",
    "print(\"Columnas de df_train:\")\n",
    "print(df_train.columns)\n",
    "\n",
    "print(\"Valores únicos de la columna PriceCategory:\")\n",
    "print(df_train['PriceCategory'].unique())"
   ]
  },
  {
   "cell_type": "markdown",
   "metadata": {},
   "source": [
    "## Enconding\n",
    "Dado que nuestras categorías actualmente son cadenas de texto ('Medium', 'Cheap', 'Expensive'), necesitamos codificarlas para entrenar el modelo SVM. La codificación resultante será la siguiente:\n",
    "\n",
    "- `Expensive`: 1\n",
    "- `Medium`: 2\n",
    "- `Cheap`: 0"
   ]
  },
  {
   "cell_type": "code",
   "execution_count": 23,
   "metadata": {},
   "outputs": [
    {
     "name": "stdout",
     "output_type": "stream",
     "text": [
      "  PriceCategory  PriceCategoryEncoded\n",
      "0        Medium                     2\n",
      "3         Cheap                     0\n",
      "6     Expensive                     1\n"
     ]
    }
   ],
   "source": [
    "from sklearn.preprocessing import LabelEncoder\n",
    "\n",
    "# Inicializar el codificador\n",
    "label_encoder = LabelEncoder()\n",
    "\n",
    "# Aplicar el Label Encoding a la columna 'PriceCategory' en df_train\n",
    "df_train['PriceCategoryEncoded'] = label_encoder.fit_transform(df_train['PriceCategory'])\n",
    "\n",
    "# Ver los valores únicos y su correspondiente encoding\n",
    "print(df_train[['PriceCategory', 'PriceCategoryEncoded']].drop_duplicates())\n"
   ]
  },
  {
   "cell_type": "markdown",
   "metadata": {},
   "source": [
    "## Modelo de Clasificacion SVM"
   ]
  },
  {
   "cell_type": "code",
   "execution_count": 24,
   "metadata": {},
   "outputs": [],
   "source": [
    "# Separar características y variable objetivo\n",
    "X_train = df_train.drop(['SalePrice', 'PriceCategoryEncoded'], axis=1)\n",
    "y_train = df_train['PriceCategoryEncoded']\n",
    "\n",
    "# Manejar valores nulos (rellenar o eliminar)\n",
    "X_train.fillna(0, inplace=True)  # Por ejemplo, llenar con ceros\n",
    "\n",
    "# Convertir variables categóricas en variables numéricas (codificación one-hot)\n",
    "X_train = pd.get_dummies(X_train)\n",
    "\n",
    "# Dividir los datos en conjuntos de entrenamiento y prueba\n",
    "from sklearn.model_selection import train_test_split\n",
    "X_train, X_test, y_train, y_test = train_test_split(X_train, y_train, test_size=0.2, random_state=42)\n"
   ]
  },
  {
   "cell_type": "code",
   "execution_count": 25,
   "metadata": {},
   "outputs": [
    {
     "name": "stdout",
     "output_type": "stream",
     "text": [
      "Kernel: linear\n",
      "Accuracy: 1.0\n",
      "Confusion Matrix:\n",
      "[[139   0   0]\n",
      " [  0  24   0]\n",
      " [  0   0 129]]\n",
      "\n",
      "Kernel: rbf\n",
      "Accuracy: 0.9657534246575342\n",
      "Confusion Matrix:\n",
      "[[135   0   4]\n",
      " [  0  21   3]\n",
      " [  3   0 126]]\n",
      "\n",
      "Kernel: poly\n",
      "Accuracy: 0.6883561643835616\n",
      "Confusion Matrix:\n",
      "[[ 61   0  78]\n",
      " [  0  12  12]\n",
      " [  1   0 128]]\n",
      "\n"
     ]
    }
   ],
   "source": [
    "# Feature scaling\n",
    "scaler = StandardScaler()\n",
    "X_train_scaled = scaler.fit_transform(X_train)\n",
    "X_test_scaled = scaler.transform(X_test)\n",
    "\n",
    "# SVM con 3 distintos modelos\n",
    "svm_models = {\n",
    "    'linear': SVC(kernel='linear'),\n",
    "    'rbf': SVC(kernel='rbf', gamma='scale'),\n",
    "    'poly': SVC(kernel='poly', degree=3)\n",
    "}\n",
    "\n",
    "# Entrenar y evaluar los modelos\n",
    "for kernel, model in svm_models.items():\n",
    "    model.fit(X_train_scaled, y_train)\n",
    "    y_pred = model.predict(X_test_scaled)\n",
    "    accuracy = accuracy_score(y_test, y_pred)\n",
    "    confusion = confusion_matrix(y_test, y_pred)\n",
    "    print(f\"Kernel: {kernel}\")\n",
    "    print(f\"Accuracy: {accuracy}\")\n",
    "    print(f\"Confusion Matrix:\\n{confusion}\\n\")"
   ]
  },
  {
   "cell_type": "markdown",
   "metadata": {},
   "source": [
    "## Resultados SVM\n",
    "- El kernel lineal logró una precisión perfecta, clasificando correctamente todas las instancias en sus respectivas categorías de precios. Esto significa que no hubo errores de clasificación, lo que indica que el modelo pudo discernir de manera óptima entre las clases 'Cheap', 'Medium' y 'Expensive'. Este resultado es altamente satisfactorio y demuestra la capacidad del modelo para generalizar bien los patrones en los datos de entrada.\n",
    "\n",
    "- El kernel RBF también arrojó resultados muy buenos, con una precisión del 96.6%. Sin embargo, hubo algunas instancias mal clasificadas, especialmente en la categoría 'Cheap' donde se clasificaron incorrectamente 4 instancias como 'Expensive'. Además, hubo 3 instancias clasificadas incorrectamente como 'Medium' cuando en realidad eran 'Expensive'. Aunque estos errores son mínimos en comparación con el tamaño total del conjunto de datos, siguen siendo importantes ya que pueden afectar las decisiones basadas en las predicciones del modelo.\n",
    "\n",
    "- El kernel polinomial mostró la precisión más baja de los tres modelos, con un 68.8%. Este modelo tuvo dificultades para distinguir entre las clases 'Cheap', 'Medium' y 'Expensive', como se evidencia en la matriz de confusión. Notablemente, clasificó incorrectamente 78 instancias de la clase 'Medium' como 'Expensive' y 12 instancias de la clase 'Expensive' como 'Medium'. Estos errores son significativos y podrían ser problemáticos en aplicaciones prácticas donde la precisión es crucial."
   ]
  },
  {
   "cell_type": "markdown",
   "metadata": {},
   "source": [
    "## Otro Modelo de Clasificacio Random Forest"
   ]
  },
  {
   "cell_type": "code",
   "execution_count": 28,
   "metadata": {},
   "outputs": [
    {
     "name": "stdout",
     "output_type": "stream",
     "text": [
      "Accuracy del modelo Random Forest: 0.9965753424657534\n",
      "Matriz de Confusión:\n",
      "[[139   0   0]\n",
      " [  0  23   1]\n",
      " [  0   0 129]]\n"
     ]
    }
   ],
   "source": [
    "# Crear el modelo de Random Forest\n",
    "rf_model = RandomForestClassifier(n_estimators=100, random_state=42)\n",
    "\n",
    "# Entrenar el modelo\n",
    "rf_model.fit(X_train_scaled, y_train)\n",
    "\n",
    "# Predecir sobre el conjunto de prueba\n",
    "y_pred = rf_model.predict(X_test_scaled)\n",
    "\n",
    "# Calcular la precisión del modelo\n",
    "accuracy = accuracy_score(y_test, y_pred)\n",
    "print(\"Accuracy del modelo Random Forest:\", accuracy)\n",
    "\n",
    "# Calcular la matriz de confusión\n",
    "conf_matrix = confusion_matrix(y_test, y_pred)\n",
    "print(\"Matriz de Confusión:\")\n",
    "print(conf_matrix)"
   ]
  },
  {
   "cell_type": "markdown",
   "metadata": {},
   "source": [
    "## Resultados de Random Forest\n",
    "- Accuracy: El modelo de Random Forest tiene una precisión de aproximadamente 0.997, lo que significa que clasifica correctamente el 99.7% de las muestras en el conjunto de prueba.\n",
    "\n",
    "- Matriz de Confusión: La matriz de confusión muestra que el modelo hace predicciones casi perfectas en todas las categorías, con solo una muestra clasificada incorrectamente en la categoría \"Expensive\".\n"
   ]
  },
  {
   "cell_type": "markdown",
   "metadata": {},
   "source": [
    "`Para observar los resultados y conclusiones observar el pdf. `"
   ]
  }
 ],
 "metadata": {
  "kernelspec": {
   "display_name": "Python 3",
   "language": "python",
   "name": "python3"
  },
  "language_info": {
   "codemirror_mode": {
    "name": "ipython",
    "version": 3
   },
   "file_extension": ".py",
   "mimetype": "text/x-python",
   "name": "python",
   "nbconvert_exporter": "python",
   "pygments_lexer": "ipython3",
   "version": "3.11.4"
  }
 },
 "nbformat": 4,
 "nbformat_minor": 2
}
